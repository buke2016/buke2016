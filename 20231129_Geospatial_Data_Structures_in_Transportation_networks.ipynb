{
  "nbformat": 4,
  "nbformat_minor": 0,
  "metadata": {
    "colab": {
      "provenance": [],
      "authorship_tag": "ABX9TyOLSxgn6hfet8iCnyBTg9ix",
      "include_colab_link": true
    },
    "kernelspec": {
      "name": "python3",
      "display_name": "Python 3"
    },
    "language_info": {
      "name": "python"
    }
  },
  "cells": [
    {
      "cell_type": "markdown",
      "metadata": {
        "id": "view-in-github",
        "colab_type": "text"
      },
      "source": [
        "<a href=\"https://colab.research.google.com/github/buke2016/buke2016/blob/buke2016-patch-3/20231129_Geospatial_Data_Structures_in_Transportation_networks.ipynb\" target=\"_parent\"><img src=\"https://colab.research.google.com/assets/colab-badge.svg\" alt=\"Open In Colab\"/></a>"
      ]
    },
    {
      "cell_type": "markdown",
      "source": [
        "Using Geospatial Data Structures in Transportation networks"
      ],
      "metadata": {
        "id": "WMeIZInwMl41"
      }
    },
    {
      "cell_type": "code",
      "source": [
        "!pip install geopandas tqdm osmnx matplotlib==3.1.3"
      ],
      "metadata": {
        "colab": {
          "base_uri": "https://localhost:8080/"
        },
        "id": "022Ki6CFDXIo",
        "outputId": "68d81082-9322-4553-bef4-5815cf1fb4bb"
      },
      "execution_count": null,
      "outputs": [
        {
          "output_type": "stream",
          "name": "stdout",
          "text": [
            "Requirement already satisfied: geopandas in /usr/local/lib/python3.10/dist-packages (0.13.2)\n",
            "Requirement already satisfied: tqdm in /usr/local/lib/python3.10/dist-packages (4.66.1)\n",
            "Requirement already satisfied: osmnx in /usr/local/lib/python3.10/dist-packages (1.8.0)\n",
            "Requirement already satisfied: matplotlib==3.1.3 in /usr/local/lib/python3.10/dist-packages (3.1.3)\n",
            "Requirement already satisfied: cycler>=0.10 in /usr/local/lib/python3.10/dist-packages (from matplotlib==3.1.3) (0.12.1)\n",
            "Requirement already satisfied: kiwisolver>=1.0.1 in /usr/local/lib/python3.10/dist-packages (from matplotlib==3.1.3) (1.4.5)\n",
            "Requirement already satisfied: pyparsing!=2.0.4,!=2.1.2,!=2.1.6,>=2.0.1 in /usr/local/lib/python3.10/dist-packages (from matplotlib==3.1.3) (3.1.1)\n",
            "Requirement already satisfied: python-dateutil>=2.1 in /usr/local/lib/python3.10/dist-packages (from matplotlib==3.1.3) (2.8.2)\n",
            "Requirement already satisfied: numpy>=1.11 in /usr/local/lib/python3.10/dist-packages (from matplotlib==3.1.3) (1.23.5)\n",
            "Requirement already satisfied: fiona>=1.8.19 in /usr/local/lib/python3.10/dist-packages (from geopandas) (1.9.5)\n",
            "Requirement already satisfied: packaging in /usr/local/lib/python3.10/dist-packages (from geopandas) (23.2)\n",
            "Requirement already satisfied: pandas>=1.1.0 in /usr/local/lib/python3.10/dist-packages (from geopandas) (1.5.3)\n",
            "Requirement already satisfied: pyproj>=3.0.1 in /usr/local/lib/python3.10/dist-packages (from geopandas) (3.6.1)\n",
            "Requirement already satisfied: shapely>=1.7.1 in /usr/local/lib/python3.10/dist-packages (from geopandas) (2.0.2)\n",
            "Requirement already satisfied: networkx>=2.5 in /usr/local/lib/python3.10/dist-packages (from osmnx) (3.2.1)\n",
            "Requirement already satisfied: requests>=2.27 in /usr/local/lib/python3.10/dist-packages (from osmnx) (2.31.0)\n",
            "Requirement already satisfied: attrs>=19.2.0 in /usr/local/lib/python3.10/dist-packages (from fiona>=1.8.19->geopandas) (23.1.0)\n",
            "Requirement already satisfied: certifi in /usr/local/lib/python3.10/dist-packages (from fiona>=1.8.19->geopandas) (2023.11.17)\n",
            "Requirement already satisfied: click~=8.0 in /usr/local/lib/python3.10/dist-packages (from fiona>=1.8.19->geopandas) (8.1.7)\n",
            "Requirement already satisfied: click-plugins>=1.0 in /usr/local/lib/python3.10/dist-packages (from fiona>=1.8.19->geopandas) (1.1.1)\n",
            "Requirement already satisfied: cligj>=0.5 in /usr/local/lib/python3.10/dist-packages (from fiona>=1.8.19->geopandas) (0.7.2)\n",
            "Requirement already satisfied: six in /usr/local/lib/python3.10/dist-packages (from fiona>=1.8.19->geopandas) (1.16.0)\n",
            "Requirement already satisfied: setuptools in /usr/local/lib/python3.10/dist-packages (from fiona>=1.8.19->geopandas) (67.7.2)\n",
            "Requirement already satisfied: pytz>=2020.1 in /usr/local/lib/python3.10/dist-packages (from pandas>=1.1.0->geopandas) (2023.3.post1)\n",
            "Requirement already satisfied: charset-normalizer<4,>=2 in /usr/local/lib/python3.10/dist-packages (from requests>=2.27->osmnx) (3.3.2)\n",
            "Requirement already satisfied: idna<4,>=2.5 in /usr/local/lib/python3.10/dist-packages (from requests>=2.27->osmnx) (3.6)\n",
            "Requirement already satisfied: urllib3<3,>=1.21.1 in /usr/local/lib/python3.10/dist-packages (from requests>=2.27->osmnx) (2.0.7)\n"
          ]
        }
      ]
    },
    {
      "cell_type": "code",
      "source": [
        "!pip install osmnx"
      ],
      "metadata": {
        "colab": {
          "base_uri": "https://localhost:8080/"
        },
        "id": "A-6ggG3ON5Tv",
        "outputId": "a26874c3-e3f9-4632-b85a-e182e7e81bf2"
      },
      "execution_count": null,
      "outputs": [
        {
          "output_type": "stream",
          "name": "stdout",
          "text": [
            "Requirement already satisfied: osmnx in /usr/local/lib/python3.10/dist-packages (1.8.0)\n",
            "Requirement already satisfied: geopandas>=0.12 in /usr/local/lib/python3.10/dist-packages (from osmnx) (0.13.2)\n",
            "Requirement already satisfied: networkx>=2.5 in /usr/local/lib/python3.10/dist-packages (from osmnx) (3.2.1)\n",
            "Requirement already satisfied: numpy>=1.20 in /usr/local/lib/python3.10/dist-packages (from osmnx) (1.23.5)\n",
            "Requirement already satisfied: pandas>=1.1 in /usr/local/lib/python3.10/dist-packages (from osmnx) (1.5.3)\n",
            "Requirement already satisfied: requests>=2.27 in /usr/local/lib/python3.10/dist-packages (from osmnx) (2.31.0)\n",
            "Requirement already satisfied: shapely>=2.0 in /usr/local/lib/python3.10/dist-packages (from osmnx) (2.0.2)\n",
            "Requirement already satisfied: fiona>=1.8.19 in /usr/local/lib/python3.10/dist-packages (from geopandas>=0.12->osmnx) (1.9.5)\n",
            "Requirement already satisfied: packaging in /usr/local/lib/python3.10/dist-packages (from geopandas>=0.12->osmnx) (23.2)\n",
            "Requirement already satisfied: pyproj>=3.0.1 in /usr/local/lib/python3.10/dist-packages (from geopandas>=0.12->osmnx) (3.6.1)\n",
            "Requirement already satisfied: python-dateutil>=2.8.1 in /usr/local/lib/python3.10/dist-packages (from pandas>=1.1->osmnx) (2.8.2)\n",
            "Requirement already satisfied: pytz>=2020.1 in /usr/local/lib/python3.10/dist-packages (from pandas>=1.1->osmnx) (2023.3.post1)\n",
            "Requirement already satisfied: charset-normalizer<4,>=2 in /usr/local/lib/python3.10/dist-packages (from requests>=2.27->osmnx) (3.3.2)\n",
            "Requirement already satisfied: idna<4,>=2.5 in /usr/local/lib/python3.10/dist-packages (from requests>=2.27->osmnx) (3.6)\n",
            "Requirement already satisfied: urllib3<3,>=1.21.1 in /usr/local/lib/python3.10/dist-packages (from requests>=2.27->osmnx) (2.0.7)\n",
            "Requirement already satisfied: certifi>=2017.4.17 in /usr/local/lib/python3.10/dist-packages (from requests>=2.27->osmnx) (2023.11.17)\n",
            "Requirement already satisfied: attrs>=19.2.0 in /usr/local/lib/python3.10/dist-packages (from fiona>=1.8.19->geopandas>=0.12->osmnx) (23.1.0)\n",
            "Requirement already satisfied: click~=8.0 in /usr/local/lib/python3.10/dist-packages (from fiona>=1.8.19->geopandas>=0.12->osmnx) (8.1.7)\n",
            "Requirement already satisfied: click-plugins>=1.0 in /usr/local/lib/python3.10/dist-packages (from fiona>=1.8.19->geopandas>=0.12->osmnx) (1.1.1)\n",
            "Requirement already satisfied: cligj>=0.5 in /usr/local/lib/python3.10/dist-packages (from fiona>=1.8.19->geopandas>=0.12->osmnx) (0.7.2)\n",
            "Requirement already satisfied: six in /usr/local/lib/python3.10/dist-packages (from fiona>=1.8.19->geopandas>=0.12->osmnx) (1.16.0)\n",
            "Requirement already satisfied: setuptools in /usr/local/lib/python3.10/dist-packages (from fiona>=1.8.19->geopandas>=0.12->osmnx) (67.7.2)\n"
          ]
        }
      ]
    },
    {
      "cell_type": "markdown",
      "source": [
        "Importing necessary libraries:\n",
        "*   osmnx as ox: For interacing with OpenStreetMap data\n",
        "*   networkX as nx: For the creation, manipulation, and study of the structure, dynamics, and functions of complex networks.\n",
        "*   numpy as np: For numerical computations\n",
        "*   matplotlib.pyplot as plt: For creating static, animated, and interactive visualizations in Python\n",
        "*   TQDM: For adding progress bar\n",
        "*   Geopandas: Extends the datatypes used by pandas to allow spatial operations on geometric types.\n"
      ],
      "metadata": {
        "id": "1T207MGIWa32"
      }
    },
    {
      "cell_type": "code",
      "execution_count": null,
      "metadata": {
        "id": "oPb_4ck8MkPb"
      },
      "outputs": [],
      "source": [
        "# Import necessary libraries\n",
        "import osmnx as ox\n",
        "import networkx as nx\n",
        "import numpy as np\n",
        "import matplotlib.pyplot as plt\n",
        "import os\n",
        "import geopandas as gp"
      ]
    },
    {
      "cell_type": "code",
      "source": [
        "import osmnx as ox\n",
        "\n",
        "# create street network\n",
        "def create_street_network(STREET_GRAPH_PLACE):\n",
        "    STREETGRAPH_GRAPH_PLACE = STREET_GRAPH_PLACE.replace(' ','').replace(',','')+  '.graphml'\n",
        "    STREETGRAPH_FILEPATH = \".//data//\"+STREETGRAPH_GRAPH_PLACE\n",
        "    FORCE_CREATE = False\n",
        "    # This Checks if the Streetnetwork File exists (or creation is overwritten using FORCE_CREATE)\n",
        "    if (not os.path.isfile(STREETGRAPH_FILEPATH) ) or FORCE_CREATE:\n",
        "        # Download street network and save as GraphML\n",
        "        area_graph = ox.graph_from_place(STREET_GRAPH_PLACE, network_type='drive_service')\n",
        "        ox.save_graphml(area_graph, STREETGRAPH_FILEPATH)\n",
        "    return STREETGRAPH_FILEPATH\n",
        "\n",
        "# Load the created street network\n",
        "created_area_graph = ox.load_graphml(create_street_network('Manhattan, Los Angeles, USA'))\n",
        "created_area_graph"
      ],
      "metadata": {
        "colab": {
          "base_uri": "https://localhost:8080/"
        },
        "id": "FcjVHKauXNv7",
        "outputId": "3e461b20-b363-4102-8b53-c49b6eda593b"
      },
      "execution_count": null,
      "outputs": [
        {
          "output_type": "execute_result",
          "data": {
            "text/plain": [
              "<networkx.classes.multidigraph.MultiDiGraph at 0x7a0c175951e0>"
            ]
          },
          "metadata": {},
          "execution_count": 20
        }
      ]
    },
    {
      "cell_type": "markdown",
      "source": [
        "The code above uses the OSMnx package to download the street network from OpenStreetMap and save it as a GraphML file. The create_street_network function takes the place name as input, downloads the street network, and returns the file path of the created GraphML file. The file path is then used to load the created street network."
      ],
      "metadata": {
        "id": "optGD0riNfn-"
      }
    },
    {
      "cell_type": "code",
      "source": [
        "import networkx as nx\n",
        "\n",
        "# Assuming you already have the 'area_graph' created\n",
        "# Define the nodes\n",
        "node_start = 'A'  # Replace 'A' with the actual starting node name\n",
        "node_stop = 'B'   # Replace 'B' with the actual ending node name\n",
        "\n",
        "# Function to calculate the shortest network distance\n",
        "def calculate_shortest_distance(graph, start, stop):\n",
        "    distance = nx.shortest_path_length(graph, start, stop, weight=\"length\")\n",
        "    return distance\n",
        "\n",
        "# Call the function to calculate the distance\n",
        "shortest_distance = calculate_shortest_distance(area_graph, node_start, node_stop)\n",
        "print(shortest_distance)  # or use the value as needed"
      ],
      "metadata": {
        "id": "RUkRUftpN6dI",
        "colab": {
          "base_uri": "https://localhost:8080/",
          "height": 227
        },
        "outputId": "a3f4c9a7-6023-4864-f016-7c46b7283067"
      },
      "execution_count": null,
      "outputs": [
        {
          "output_type": "error",
          "ename": "NameError",
          "evalue": "ignored",
          "traceback": [
            "\u001b[0;31m---------------------------------------------------------------------------\u001b[0m",
            "\u001b[0;31mNameError\u001b[0m                                 Traceback (most recent call last)",
            "\u001b[0;32m<ipython-input-1-94067a95068d>\u001b[0m in \u001b[0;36m<cell line: 14>\u001b[0;34m()\u001b[0m\n\u001b[1;32m     12\u001b[0m \u001b[0;34m\u001b[0m\u001b[0m\n\u001b[1;32m     13\u001b[0m \u001b[0;31m# Call the function to calculate the distance\u001b[0m\u001b[0;34m\u001b[0m\u001b[0;34m\u001b[0m\u001b[0m\n\u001b[0;32m---> 14\u001b[0;31m \u001b[0mshortest_distance\u001b[0m \u001b[0;34m=\u001b[0m \u001b[0mcalculate_shortest_distance\u001b[0m\u001b[0;34m(\u001b[0m\u001b[0marea_graph\u001b[0m\u001b[0;34m,\u001b[0m \u001b[0mnode_start\u001b[0m\u001b[0;34m,\u001b[0m \u001b[0mnode_stop\u001b[0m\u001b[0;34m)\u001b[0m\u001b[0;34m\u001b[0m\u001b[0;34m\u001b[0m\u001b[0m\n\u001b[0m\u001b[1;32m     15\u001b[0m \u001b[0mprint\u001b[0m\u001b[0;34m(\u001b[0m\u001b[0mshortest_distance\u001b[0m\u001b[0;34m)\u001b[0m  \u001b[0;31m# or use the value as needed\u001b[0m\u001b[0;34m\u001b[0m\u001b[0;34m\u001b[0m\u001b[0m\n",
            "\u001b[0;31mNameError\u001b[0m: name 'area_graph' is not defined"
          ]
        }
      ]
    },
    {
      "cell_type": "markdown",
      "source": [
        "The code above calculates the shortest network distance between two nodes in a pre-existing network graph"
      ],
      "metadata": {
        "id": "OynMHB6ocpvb"
      }
    },
    {
      "cell_type": "code",
      "source": [
        "import osmnx as ox\n",
        "import networkx as nx\n",
        "import numpy as np\n",
        "import matplotlib.pyplot as plt\n",
        "import geopandas as gpd\n",
        "ox.__version__\n",
        "\n",
        "# Define location\n",
        "place_name = (\"Manhattan, California\")\n",
        "network_type=network_type\n",
        "# Function to download the street network\n",
        "def download_street_network(place_name, network_type):\n",
        "    G = ox.graph_from_place(place_name, network_type=all)\n",
        "    return G\n",
        "\n",
        "# Function to plot the downloaded network\n",
        "def plot_network(G, network_type):\n",
        "    # Calculate node degrees\n",
        "    degrees = dict(G.degree())\n",
        "    degrees_array = np.array(list(degrees.values()))\n",
        "\n",
        "    # Calculate average degree\n",
        "    average_degree = np.mean(degrees_array)\n",
        "\n",
        "    # Plot the network\n",
        "    ox.plot_graph(G, bgcolor='w', node_size=30, node_color='#999999', edge_linewidth=0.2, edge_color='#999999')\n",
        "\n",
        "    # Display plot with average degree and network type\n",
        "    plt.title(f\"{network_type.lower()} network\\nAverage Node Degree: {average_degree:.2f}\")\n",
        "    plt.show()\n",
        "\n",
        "# List of network types\n",
        "network_types = ['drive', 'drive_service', 'walk', 'bike', 'all', 'all_private']\n",
        "\n",
        "# Download and plot networks\n",
        "for network_type in network_types:\n",
        "    print(f\"Downloading {network_type} network...\")\n",
        "    G = download_street_network(place_name, network_type)\n",
        "\n",
        "    print(f\"Plotting {network_type} network...\")\n",
        "    plot_network(G, network_type)\n"
      ],
      "metadata": {
        "id": "j1jB7mdAwq7l"
      },
      "execution_count": null,
      "outputs": []
    }
  ]
}