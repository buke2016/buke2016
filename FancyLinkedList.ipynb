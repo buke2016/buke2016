{
  "nbformat": 4,
  "nbformat_minor": 0,
  "metadata": {
    "colab": {
      "provenance": [],
      "include_colab_link": true
    },
    "kernelspec": {
      "name": "python3",
      "display_name": "Python 3"
    },
    "language_info": {
      "name": "python"
    }
  },
  "cells": [
    {
      "cell_type": "markdown",
      "metadata": {
        "id": "view-in-github",
        "colab_type": "text"
      },
      "source": [
        "<a href=\"https://colab.research.google.com/github/buke2016/buke2016/blob/portfolio-template/FancyLinkedList.ipynb\" target=\"_parent\"><img src=\"https://colab.research.google.com/assets/colab-badge.svg\" alt=\"Open In Colab\"/></a>"
      ]
    },
    {
      "cell_type": "markdown",
      "source": [
        "# Fancy Linked List"
      ],
      "metadata": {
        "id": "ZxndKT3Un4ex"
      }
    },
    {
      "cell_type": "code",
      "source": [
        "class ListNode:\n",
        "  def __init__(self, val):\n",
        "    self.val: int = val\n",
        "    self.next: ListNode = None\n",
        "    self.prev: ListNode = None\n",
        "\n",
        "class FancyLinkedList:\n",
        "  def __init__(self):\n",
        "    self.head: ListNode = None\n",
        "    self.tail: ListNode = None\n",
        "\n",
        "    self.size: int = 0\n",
        "\n",
        "  def __str__(self):\n",
        "    printable = \"head-> \"\n",
        "    current = self.head\n",
        "\n",
        "    for _ in range(self.size):\n",
        "      printable += str(current.val) + \"-> \"\n",
        "      current = current.next\n",
        "\n",
        "    return printable\n",
        "\n",
        "  def getAtIndex(self, index: int)->int:\n",
        "    \"\"\"\n",
        "    Get the value of the index-th node in the linked list\n",
        "    If the index is invalid return -1\n",
        "    \"\"\"\n",
        "    if index < 0 or index >= self.size:\n",
        "      return -1\n",
        "\n",
        "    current = self.head\n",
        "\n",
        "    for _ in range(index):\n",
        "      current = current.next\n",
        "\n",
        "    return current.val\n",
        "\n",
        "  def addAtIndex(self, index: int, val: int) -> None:\n",
        "    if index < 0 or index > self.size:\n",
        "      return\n",
        "\n",
        "    current = self.head\n",
        "    new_node = ListNode(val)\n",
        "\n",
        "    if index == 0:\n",
        "      new_node.next = self.head\n",
        "      self.head = new_node\n",
        "\n",
        "    else:\n",
        "      for _ in range(index-1):\n",
        "        current = current.next\n",
        "\n",
        "      new_node.next = current.next\n",
        "      current.next = new_node\n",
        "\n",
        "    self.size += 1\n",
        "\n",
        "  def deleteAtIndex(self, index: int)->None:\n",
        "    \"\"\"\n",
        "    Delete the index-th node of the linked list, if index is valid.\n",
        "    \"\"\"\n",
        "    if index < 0 or index >= self.size:\n",
        "      return\n",
        "\n",
        "    if index == 0:\n",
        "      self.head = self.head.next\n",
        "\n",
        "    else:\n",
        "      current = self.head\n",
        "\n",
        "      for _ in range(index-1):\n",
        "        current = current.next\n",
        "\n",
        "      current.next = current.next.next\n",
        "\n",
        "    self.size -= 1"
      ],
      "metadata": {
        "id": "zDiWIyWndo0v"
      },
      "execution_count": null,
      "outputs": []
    },
    {
      "cell_type": "code",
      "source": [
        "# Set up FancyLinkedList (edit me!)\n",
        "fancy = Stack()\n",
        "fancy.addAtIndex(0, 123)\n",
        "fancy.addAtIndex(0, 456)"
      ],
      "metadata": {
        "id": "UcH-jOM2f_r6"
      },
      "execution_count": null,
      "outputs": []
    },
    {
      "cell_type": "code",
      "source": [
        "# Test FancyLinkedList (edit me!)\n",
        "print(fancy)"
      ],
      "metadata": {
        "colab": {
          "base_uri": "https://localhost:8080/"
        },
        "id": "BDpWQKa6Pm7F",
        "outputId": "b605cec8-db97-4e42-9bcb-06ed2b9109f9"
      },
      "execution_count": null,
      "outputs": [
        {
          "output_type": "stream",
          "name": "stdout",
          "text": [
            "head-> 456-> 123-> \n"
          ]
        }
      ]
    },
    {
      "cell_type": "markdown",
      "source": [
        "# Stack"
      ],
      "metadata": {
        "id": "vOk3VWb5oCf0"
      }
    },
    {
      "cell_type": "markdown",
      "source": [
        "* `push(toPush)` adds the given element to the top of the stack\n",
        "* `peek()` returns the element at the top of the stack\n",
        "* `pop()` removes the element at the top of the stack\n"
      ],
      "metadata": {
        "id": "vwwGcgj7pJwp"
      }
    },
    {
      "cell_type": "markdown",
      "source": [
        "*As a subclass of FancyLinkedList*"
      ],
      "metadata": {
        "id": "4mFybOx9o9qv"
      }
    },
    {
      "cell_type": "code",
      "source": [
        "class Stack(FancyLinkedList):\n",
        "\n",
        "    def __str__(self):\n",
        "        return str(self.peek()) + (\".\"*self.size)\n",
        "\n",
        "    def push(self, toPush):\n",
        "        \"\"\"\n",
        "        Adds the given element to the top of the stack\n",
        "        \"\"\"\n",
        "        super().addAtIndex(0, toPush)\n",
        "\n",
        "    def peek(self):\n",
        "        \"\"\"\n",
        "        Returns the element at the top of the stack\n",
        "        \"\"\"\n",
        "        return super().getAtIndex(0)\n",
        "\n",
        "    def pop(self):\n",
        "        \"\"\"\n",
        "        Removes the element at the top of the stack\n",
        "        \"\"\"\n",
        "        super().deleteAtIndex(0)\n"
      ],
      "metadata": {
        "id": "5y19-wh5PnBQ"
      },
      "execution_count": null,
      "outputs": []
    },
    {
      "cell_type": "markdown",
      "source": [
        "*Using A FancyLinkedList*"
      ],
      "metadata": {
        "id": "R6VBvnl3sF8_"
      }
    },
    {
      "cell_type": "code",
      "source": [
        "class Stack():\n",
        "\n",
        "    def __init__(self):\n",
        "        self.items = FancyLinkedList()\n",
        "\n",
        "    def __str__(self):\n",
        "        return str(self.peek()) + (\".\"*self.items.size)\n",
        "\n",
        "    def push(self, toPush):\n",
        "        \"\"\"\n",
        "        Adds the given element to the top of the stack\n",
        "        \"\"\"\n",
        "        self.items.addAtIndex(0, toPush)\n",
        "\n",
        "    def peek(self):\n",
        "        \"\"\"\n",
        "        Returns the element at the top of the stack\n",
        "        \"\"\"\n",
        "        return self.items.getAtIndex(0)\n",
        "\n",
        "    def pop(self):\n",
        "        \"\"\"\n",
        "        Removes the element at the top of the stack\n",
        "        \"\"\"\n",
        "        self.items.deleteAtIndex(0)\n",
        "\n"
      ],
      "metadata": {
        "id": "56XfhW75sNUI"
      },
      "execution_count": null,
      "outputs": []
    },
    {
      "cell_type": "markdown",
      "source": [
        "*Using a regular built-in list*"
      ],
      "metadata": {
        "id": "JyyQnJ7_66fo"
      }
    },
    {
      "cell_type": "code",
      "source": [
        "class Stack():\n",
        "\n",
        "    def push(self, toPush):\n",
        "        \"\"\"\n",
        "        Adds the given element to the top of the stack\n",
        "        \"\"\"\n",
        "        ...\n",
        "\n",
        "    def peek(self):\n",
        "        \"\"\"\n",
        "        Returns the element at the top of the stack\n",
        "        \"\"\"\n",
        "        ...\n",
        "\n",
        "    def pop(self):\n",
        "        \"\"\"\n",
        "        Removes the element at the top of the stack\n",
        "        \"\"\"\n",
        "        ...\n",
        "\n"
      ],
      "metadata": {
        "id": "h5240qE6654k"
      },
      "execution_count": null,
      "outputs": []
    },
    {
      "cell_type": "markdown",
      "source": [
        "### Testing"
      ],
      "metadata": {
        "id": "Edar0Zbut7v9"
      }
    },
    {
      "cell_type": "code",
      "source": [
        "plates = Stack()\n",
        "plates.push(12)\n",
        "plates.push(10)\n",
        "plates.push(8)\n",
        "plates.push(6)"
      ],
      "metadata": {
        "id": "LbGSIjlKrBBm"
      },
      "execution_count": null,
      "outputs": []
    },
    {
      "cell_type": "code",
      "source": [
        "print(plates)"
      ],
      "metadata": {
        "colab": {
          "base_uri": "https://localhost:8080/"
        },
        "id": "VFL0qH0rrQ4d",
        "outputId": "1a942a75-f4c0-4ec8-b39b-b5b1e89a08b6"
      },
      "execution_count": null,
      "outputs": [
        {
          "output_type": "stream",
          "name": "stdout",
          "text": [
            "6....\n"
          ]
        }
      ]
    },
    {
      "cell_type": "code",
      "source": [
        "print(plates.peek())"
      ],
      "metadata": {
        "colab": {
          "base_uri": "https://localhost:8080/"
        },
        "id": "dB7VVuQ-rX_q",
        "outputId": "39aa6dc6-afb6-4b36-9108-50cfc9b0e181"
      },
      "execution_count": null,
      "outputs": [
        {
          "output_type": "stream",
          "name": "stdout",
          "text": [
            "6\n"
          ]
        }
      ]
    },
    {
      "cell_type": "code",
      "source": [
        "plates.items.deleteAtIndex(2)"
      ],
      "metadata": {
        "id": "mfGreJmy7t1R"
      },
      "execution_count": null,
      "outputs": []
    },
    {
      "cell_type": "code",
      "source": [
        "plates.pop()"
      ],
      "metadata": {
        "id": "kzogZwRDrZ5K"
      },
      "execution_count": null,
      "outputs": []
    },
    {
      "cell_type": "markdown",
      "source": [
        "# Queue"
      ],
      "metadata": {
        "id": "qVBzRcPlt1oD"
      }
    },
    {
      "cell_type": "markdown",
      "source": [
        "\n",
        "* `push(toQueue)` (sometimes called enqueue) adds an element to the back of the queue\n",
        "* `poll()` (sometimes generally referred to as pop() or dequeue()) returns and removes the element from the front of the queue\n",
        "* `peek()` returns a reference to the element at the front of the queue (least recently added)\n"
      ],
      "metadata": {
        "id": "Dk1ayiHjuIBP"
      }
    },
    {
      "cell_type": "code",
      "source": [
        "# Implement a queue\n",
        "..."
      ],
      "metadata": {
        "id": "nfOKnjeBuDvF"
      },
      "execution_count": null,
      "outputs": []
    },
    {
      "cell_type": "markdown",
      "source": [
        "### Testing"
      ],
      "metadata": {
        "id": "s3JzYUKhusZh"
      }
    },
    {
      "cell_type": "code",
      "source": [
        "# Create and test queues\n",
        "..."
      ],
      "metadata": {
        "id": "4JKEPCOtuhB3"
      },
      "execution_count": null,
      "outputs": []
    }
  ]
}