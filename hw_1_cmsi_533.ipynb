{
  "cells": [
    {
      "cell_type": "markdown",
      "metadata": {
        "id": "view-in-github",
        "colab_type": "text"
      },
      "source": [
        "<a href=\"https://colab.research.google.com/github/buke2016/buke2016/blob/buke2016-patch-3/hw_1_cmsi_533.ipynb\" target=\"_parent\"><img src=\"https://colab.research.google.com/assets/colab-badge.svg\" alt=\"Open In Colab\"/></a>"
      ]
    },
    {
      "cell_type": "code",
      "execution_count": null,
      "metadata": {
        "id": "X83cNeN3Siqs"
      },
      "outputs": [],
      "source": [
        "import pandas as pd"
      ]
    },
    {
      "cell_type": "code",
      "execution_count": null,
      "metadata": {
        "id": "axjLA9scSiqt"
      },
      "outputs": [],
      "source": [
        "#1 import numpy\n",
        "import numpy as np"
      ]
    },
    {
      "cell_type": "code",
      "execution_count": null,
      "metadata": {
        "id": "loPHCBVzSiqt",
        "outputId": "a68d7741-d4b1-486c-9122-21759653ab7a"
      },
      "outputs": [
        {
          "name": "stderr",
          "output_type": "stream",
          "text": [
            "C:\\Users\\bukep\\AppData\\Local\\Temp\\ipykernel_31468\\2954538210.py:2: DtypeWarning: Columns (6,16,20,31,33,39,40,41,43,46,52,55,57,58,60,62,65,67,69,71) have mixed types. Specify dtype option on import or set low_memory=False.\n",
            "  df = pd.read_csv('C:\\\\Users\\\\bukep\\\\Spring 2024\\\\533_Data science\\\\Homework1\\\\alt_fuel_stations_Jan_14_2024.csv')\n"
          ]
        }
      ],
      "source": [
        "#2 link to the alt_fuel_stations_Jan 2024.csv\n",
        "df = pd.read_csv('C:\\\\Users\\\\bukep\\\\Spring 2024\\\\533_Data science\\\\Homework1\\\\alt_fuel_stations_Jan_14_2024.csv')"
      ]
    },
    {
      "cell_type": "code",
      "execution_count": null,
      "metadata": {
        "id": "pK_t_sl_Siqu",
        "outputId": "306cbb81-ee63-423b-c613-3ae9252c4a60"
      },
      "outputs": [
        {
          "name": "stdout",
          "output_type": "stream",
          "text": [
            "<class 'pandas.core.frame.DataFrame'>\n",
            "RangeIndex: 94369 entries, 0 to 94368\n",
            "Data columns (total 74 columns):\n",
            " #   Column                                   Non-Null Count  Dtype  \n",
            "---  ------                                   --------------  -----  \n",
            " 0   Fuel Type Code                           94369 non-null  object \n",
            " 1   Station Name                             94368 non-null  object \n",
            " 2   Street Address                           94335 non-null  object \n",
            " 3   Intersection Directions                  5089 non-null   object \n",
            " 4   City                                     94365 non-null  object \n",
            " 5   State                                    94354 non-null  object \n",
            " 6   ZIP                                      94369 non-null  object \n",
            " 7   Plus4                                    0 non-null      float64\n",
            " 8   Station Phone                            87172 non-null  object \n",
            " 9   Status Code                              94369 non-null  object \n",
            " 10  Expected Date                            6521 non-null   object \n",
            " 11  Groups With Access Code                  94369 non-null  object \n",
            " 12  Access Days Time                         83675 non-null  object \n",
            " 13  Cards Accepted                           17186 non-null  object \n",
            " 14  BD Blends                                1702 non-null   object \n",
            " 15  NG Fill Type Code                        1501 non-null   object \n",
            " 16  NG PSI                                   1497 non-null   object \n",
            " 17  EV Level1 EVSE Num                       755 non-null    float64\n",
            " 18  EV Level2 EVSE Num                       71367 non-null  float64\n",
            " 19  EV DC Fast Count                         12062 non-null  float64\n",
            " 20  EV Other Info                            40 non-null     object \n",
            " 21  EV Network                               82209 non-null  object \n",
            " 22  EV Network Web                           69854 non-null  object \n",
            " 23  Geocode Status                           94366 non-null  object \n",
            " 24  Latitude                                 94369 non-null  float64\n",
            " 25  Longitude                                94369 non-null  float64\n",
            " 26  Date Last Confirmed                      94263 non-null  object \n",
            " 27  ID                                       94369 non-null  int64  \n",
            " 28  Updated At                               94369 non-null  object \n",
            " 29  Owner Type Code                          35186 non-null  object \n",
            " 30  Federal Agency ID                        1322 non-null   float64\n",
            " 31  Federal Agency Name                      1322 non-null   object \n",
            " 32  Open Date                                92496 non-null  object \n",
            " 33  Hydrogen Status Link                     77 non-null     object \n",
            " 34  NG Vehicle Class                         1644 non-null   object \n",
            " 35  LPG Primary                              3267 non-null   object \n",
            " 36  E85 Blender Pump                         4527 non-null   object \n",
            " 37  EV Connector Types                       82020 non-null  object \n",
            " 38  Country                                  94369 non-null  object \n",
            " 39  Intersection Directions (French)         203 non-null    object \n",
            " 40  Access Days Time (French)                5471 non-null   object \n",
            " 41  BD Blends (French)                       1 non-null      object \n",
            " 42  Groups With Access Code (French)         94369 non-null  object \n",
            " 43  Hydrogen Is Retail                       112 non-null    object \n",
            " 44  Access Code                              94368 non-null  object \n",
            " 45  Access Detail Code                       8725 non-null   object \n",
            " 46  Federal Agency Code                      1322 non-null   object \n",
            " 47  Facility Type                            32757 non-null  object \n",
            " 48  CNG Dispenser Num                        1029 non-null   float64\n",
            " 49  CNG On-Site Renewable Source             514 non-null    object \n",
            " 50  CNG Total Compression Capacity           622 non-null    float64\n",
            " 51  CNG Storage Capacity                     319 non-null    float64\n",
            " 52  LNG On-Site Renewable Source             45 non-null     object \n",
            " 53  E85 Other Ethanol Blends                 1496 non-null   object \n",
            " 54  EV Pricing                               16092 non-null  object \n",
            " 55  EV Pricing (French)                      2218 non-null   object \n",
            " 56  LPG Nozzle Types                         3238 non-null   object \n",
            " 57  Hydrogen Pressures                       121 non-null    object \n",
            " 58  Hydrogen Standards                       112 non-null    object \n",
            " 59  CNG Fill Type Code                       1501 non-null   object \n",
            " 60  CNG PSI                                  1497 non-null   object \n",
            " 61  CNG Vehicle Class                        1519 non-null   object \n",
            " 62  LNG Vehicle Class                        125 non-null    object \n",
            " 63  EV On-Site Renewable Source              522 non-null    object \n",
            " 64  Restricted Access                        24149 non-null  object \n",
            " 65  RD Blends                                610 non-null    object \n",
            " 66  RD Blends (French)                       0 non-null      float64\n",
            " 67  RD Blended with Biodiesel                582 non-null    object \n",
            " 68  RD Maximum Biodiesel Level               537 non-null    float64\n",
            " 69  NPS Unit Name                            184 non-null    object \n",
            " 70  CNG Station Sells Renewable Natural Gas  955 non-null    object \n",
            " 71  LNG Station Sells Renewable Natural Gas  68 non-null     object \n",
            " 72  Maximum Vehicle Class                    22219 non-null  object \n",
            " 73  EV Workplace Charging                    82187 non-null  object \n",
            "dtypes: float64(12), int64(1), object(61)\n",
            "memory usage: 53.3+ MB\n"
          ]
        }
      ],
      "source": [
        "df.info()"
      ]
    },
    {
      "cell_type": "code",
      "execution_count": null,
      "metadata": {
        "id": "s77NfBEESiqu"
      },
      "outputs": [],
      "source": [
        "#3 df.columns\n",
        "# df_miss.head(3) for\n"
      ]
    },
    {
      "cell_type": "code",
      "execution_count": null,
      "metadata": {
        "id": "GkJu5w9FSiqu",
        "outputId": "4d123537-7365-446b-f581-5ea76be5a164"
      },
      "outputs": [
        {
          "data": {
            "text/plain": [
              "Index(['Fuel Type Code', 'Station Name', 'Street Address',\n",
              "       'Intersection Directions', 'City', 'State', 'ZIP', 'Plus4',\n",
              "       'Station Phone', 'Status Code', 'Expected Date',\n",
              "       'Groups With Access Code', 'Access Days Time', 'Cards Accepted',\n",
              "       'BD Blends', 'NG Fill Type Code', 'NG PSI', 'EV Level1 EVSE Num',\n",
              "       'EV Level2 EVSE Num', 'EV DC Fast Count', 'EV Other Info', 'EV Network',\n",
              "       'EV Network Web', 'Geocode Status', 'Latitude', 'Longitude',\n",
              "       'Date Last Confirmed', 'ID', 'Updated At', 'Owner Type Code',\n",
              "       'Federal Agency ID', 'Federal Agency Name', 'Open Date',\n",
              "       'Hydrogen Status Link', 'NG Vehicle Class', 'LPG Primary',\n",
              "       'E85 Blender Pump', 'EV Connector Types', 'Country',\n",
              "       'Intersection Directions (French)', 'Access Days Time (French)',\n",
              "       'BD Blends (French)', 'Groups With Access Code (French)',\n",
              "       'Hydrogen Is Retail', 'Access Code', 'Access Detail Code',\n",
              "       'Federal Agency Code', 'Facility Type', 'CNG Dispenser Num',\n",
              "       'CNG On-Site Renewable Source', 'CNG Total Compression Capacity',\n",
              "       'CNG Storage Capacity', 'LNG On-Site Renewable Source',\n",
              "       'E85 Other Ethanol Blends', 'EV Pricing', 'EV Pricing (French)',\n",
              "       'LPG Nozzle Types', 'Hydrogen Pressures', 'Hydrogen Standards',\n",
              "       'CNG Fill Type Code', 'CNG PSI', 'CNG Vehicle Class',\n",
              "       'LNG Vehicle Class', 'EV On-Site Renewable Source', 'Restricted Access',\n",
              "       'RD Blends', 'RD Blends (French)', 'RD Blended with Biodiesel',\n",
              "       'RD Maximum Biodiesel Level', 'NPS Unit Name',\n",
              "       'CNG Station Sells Renewable Natural Gas',\n",
              "       'LNG Station Sells Renewable Natural Gas', 'Maximum Vehicle Class',\n",
              "       'EV Workplace Charging'],\n",
              "      dtype='object')"
            ]
          },
          "execution_count": 9,
          "metadata": {},
          "output_type": "execute_result"
        }
      ],
      "source": [
        "df.columns"
      ]
    },
    {
      "cell_type": "code",
      "execution_count": null,
      "metadata": {
        "id": "DEd4djpOSiqu",
        "outputId": "ba15ff2f-94fc-4f48-8957-73e05e8e5f9e"
      },
      "outputs": [
        {
          "data": {
            "text/html": [
              "<div>\n",
              "<style scoped>\n",
              "    .dataframe tbody tr th:only-of-type {\n",
              "        vertical-align: middle;\n",
              "    }\n",
              "\n",
              "    .dataframe tbody tr th {\n",
              "        vertical-align: top;\n",
              "    }\n",
              "\n",
              "    .dataframe thead th {\n",
              "        text-align: right;\n",
              "    }\n",
              "</style>\n",
              "<table border=\"1\" class=\"dataframe\">\n",
              "  <thead>\n",
              "    <tr style=\"text-align: right;\">\n",
              "      <th></th>\n",
              "      <th>Plus4</th>\n",
              "      <th>EV Level1 EVSE Num</th>\n",
              "      <th>EV Level2 EVSE Num</th>\n",
              "      <th>EV DC Fast Count</th>\n",
              "      <th>Latitude</th>\n",
              "      <th>Longitude</th>\n",
              "      <th>ID</th>\n",
              "      <th>Federal Agency ID</th>\n",
              "      <th>CNG Dispenser Num</th>\n",
              "      <th>CNG Total Compression Capacity</th>\n",
              "      <th>CNG Storage Capacity</th>\n",
              "      <th>RD Blends (French)</th>\n",
              "      <th>RD Maximum Biodiesel Level</th>\n",
              "    </tr>\n",
              "  </thead>\n",
              "  <tbody>\n",
              "    <tr>\n",
              "      <th>count</th>\n",
              "      <td>0.0</td>\n",
              "      <td>755.000000</td>\n",
              "      <td>71367.000000</td>\n",
              "      <td>12062.000000</td>\n",
              "      <td>94369.000000</td>\n",
              "      <td>94369.000000</td>\n",
              "      <td>94369.000000</td>\n",
              "      <td>1322.000000</td>\n",
              "      <td>1029.000000</td>\n",
              "      <td>622.000000</td>\n",
              "      <td>319.000000</td>\n",
              "      <td>0.0</td>\n",
              "      <td>537.000000</td>\n",
              "    </tr>\n",
              "    <tr>\n",
              "      <th>mean</th>\n",
              "      <td>NaN</td>\n",
              "      <td>4.200000</td>\n",
              "      <td>2.410736</td>\n",
              "      <td>3.789753</td>\n",
              "      <td>39.165938</td>\n",
              "      <td>-95.183994</td>\n",
              "      <td>187443.964406</td>\n",
              "      <td>13.563540</td>\n",
              "      <td>3.029155</td>\n",
              "      <td>915.500000</td>\n",
              "      <td>46889.423197</td>\n",
              "      <td>NaN</td>\n",
              "      <td>5.370577</td>\n",
              "    </tr>\n",
              "    <tr>\n",
              "      <th>std</th>\n",
              "      <td>NaN</td>\n",
              "      <td>8.169848</td>\n",
              "      <td>3.162759</td>\n",
              "      <td>4.697930</td>\n",
              "      <td>5.711686</td>\n",
              "      <td>19.411451</td>\n",
              "      <td>78795.768102</td>\n",
              "      <td>6.158342</td>\n",
              "      <td>6.505245</td>\n",
              "      <td>1075.692844</td>\n",
              "      <td>56246.507440</td>\n",
              "      <td>NaN</td>\n",
              "      <td>4.391574</td>\n",
              "    </tr>\n",
              "    <tr>\n",
              "      <th>min</th>\n",
              "      <td>NaN</td>\n",
              "      <td>1.000000</td>\n",
              "      <td>1.000000</td>\n",
              "      <td>1.000000</td>\n",
              "      <td>-41.354100</td>\n",
              "      <td>-164.848855</td>\n",
              "      <td>17.000000</td>\n",
              "      <td>2.000000</td>\n",
              "      <td>0.000000</td>\n",
              "      <td>2.000000</td>\n",
              "      <td>0.000000</td>\n",
              "      <td>NaN</td>\n",
              "      <td>5.000000</td>\n",
              "    </tr>\n",
              "    <tr>\n",
              "      <th>25%</th>\n",
              "      <td>NaN</td>\n",
              "      <td>1.000000</td>\n",
              "      <td>2.000000</td>\n",
              "      <td>1.000000</td>\n",
              "      <td>34.392261</td>\n",
              "      <td>-117.574477</td>\n",
              "      <td>144203.000000</td>\n",
              "      <td>8.000000</td>\n",
              "      <td>1.000000</td>\n",
              "      <td>250.000000</td>\n",
              "      <td>29203.500000</td>\n",
              "      <td>NaN</td>\n",
              "      <td>5.000000</td>\n",
              "    </tr>\n",
              "    <tr>\n",
              "      <th>50%</th>\n",
              "      <td>NaN</td>\n",
              "      <td>2.000000</td>\n",
              "      <td>2.000000</td>\n",
              "      <td>2.000000</td>\n",
              "      <td>39.399690</td>\n",
              "      <td>-89.316809</td>\n",
              "      <td>187321.000000</td>\n",
              "      <td>14.000000</td>\n",
              "      <td>2.000000</td>\n",
              "      <td>700.000000</td>\n",
              "      <td>36000.000000</td>\n",
              "      <td>NaN</td>\n",
              "      <td>5.000000</td>\n",
              "    </tr>\n",
              "    <tr>\n",
              "      <th>75%</th>\n",
              "      <td>NaN</td>\n",
              "      <td>3.500000</td>\n",
              "      <td>2.000000</td>\n",
              "      <td>4.000000</td>\n",
              "      <td>42.975710</td>\n",
              "      <td>-78.593763</td>\n",
              "      <td>238224.000000</td>\n",
              "      <td>16.000000</td>\n",
              "      <td>2.000000</td>\n",
              "      <td>1200.000000</td>\n",
              "      <td>58000.000000</td>\n",
              "      <td>NaN</td>\n",
              "      <td>5.000000</td>\n",
              "    </tr>\n",
              "    <tr>\n",
              "      <th>max</th>\n",
              "      <td>NaN</td>\n",
              "      <td>90.000000</td>\n",
              "      <td>338.000000</td>\n",
              "      <td>84.000000</td>\n",
              "      <td>64.852466</td>\n",
              "      <td>122.373276</td>\n",
              "      <td>325442.000000</td>\n",
              "      <td>33.000000</td>\n",
              "      <td>80.000000</td>\n",
              "      <td>10620.000000</td>\n",
              "      <td>593136.000000</td>\n",
              "      <td>NaN</td>\n",
              "      <td>99.000000</td>\n",
              "    </tr>\n",
              "  </tbody>\n",
              "</table>\n",
              "</div>"
            ],
            "text/plain": [
              "       Plus4  EV Level1 EVSE Num  EV Level2 EVSE Num  EV DC Fast Count  \\\n",
              "count    0.0          755.000000        71367.000000      12062.000000   \n",
              "mean     NaN            4.200000            2.410736          3.789753   \n",
              "std      NaN            8.169848            3.162759          4.697930   \n",
              "min      NaN            1.000000            1.000000          1.000000   \n",
              "25%      NaN            1.000000            2.000000          1.000000   \n",
              "50%      NaN            2.000000            2.000000          2.000000   \n",
              "75%      NaN            3.500000            2.000000          4.000000   \n",
              "max      NaN           90.000000          338.000000         84.000000   \n",
              "\n",
              "           Latitude     Longitude             ID  Federal Agency ID  \\\n",
              "count  94369.000000  94369.000000   94369.000000        1322.000000   \n",
              "mean      39.165938    -95.183994  187443.964406          13.563540   \n",
              "std        5.711686     19.411451   78795.768102           6.158342   \n",
              "min      -41.354100   -164.848855      17.000000           2.000000   \n",
              "25%       34.392261   -117.574477  144203.000000           8.000000   \n",
              "50%       39.399690    -89.316809  187321.000000          14.000000   \n",
              "75%       42.975710    -78.593763  238224.000000          16.000000   \n",
              "max       64.852466    122.373276  325442.000000          33.000000   \n",
              "\n",
              "       CNG Dispenser Num  CNG Total Compression Capacity  \\\n",
              "count        1029.000000                      622.000000   \n",
              "mean            3.029155                      915.500000   \n",
              "std             6.505245                     1075.692844   \n",
              "min             0.000000                        2.000000   \n",
              "25%             1.000000                      250.000000   \n",
              "50%             2.000000                      700.000000   \n",
              "75%             2.000000                     1200.000000   \n",
              "max            80.000000                    10620.000000   \n",
              "\n",
              "       CNG Storage Capacity  RD Blends (French)  RD Maximum Biodiesel Level  \n",
              "count            319.000000                 0.0                  537.000000  \n",
              "mean           46889.423197                 NaN                    5.370577  \n",
              "std            56246.507440                 NaN                    4.391574  \n",
              "min                0.000000                 NaN                    5.000000  \n",
              "25%            29203.500000                 NaN                    5.000000  \n",
              "50%            36000.000000                 NaN                    5.000000  \n",
              "75%            58000.000000                 NaN                    5.000000  \n",
              "max           593136.000000                 NaN                   99.000000  "
            ]
          },
          "execution_count": 11,
          "metadata": {},
          "output_type": "execute_result"
        }
      ],
      "source": [
        "df.describe()"
      ]
    },
    {
      "cell_type": "code",
      "execution_count": null,
      "metadata": {
        "id": "nASI0_ueSiqu",
        "outputId": "79fa5131-4cd2-4bae-d7fb-b8a05ee70726"
      },
      "outputs": [
        {
          "data": {
            "text/plain": [
              "Fuel Type Code\n",
              "ELEC    82214\n",
              "E85      4527\n",
              "LPG      3528\n",
              "BD       1702\n",
              "CNG      1530\n",
              "RD        610\n",
              "HY        133\n",
              "LNG       125\n",
              "Name: count, dtype: int64"
            ]
          },
          "execution_count": 13,
          "metadata": {},
          "output_type": "execute_result"
        }
      ],
      "source": [
        "df['Fuel Type Code'].value_counts().sort_values(ascending=False)"
      ]
    },
    {
      "cell_type": "code",
      "execution_count": null,
      "metadata": {
        "id": "uoWy9jwfSiqu",
        "outputId": "3113d50c-835b-4a7b-bd22-29e0869efd7a"
      },
      "outputs": [
        {
          "data": {
            "text/plain": [
              "count     94369\n",
              "unique        8\n",
              "top        ELEC\n",
              "freq      82214\n",
              "Name: Fuel Type Code, dtype: object"
            ]
          },
          "execution_count": 14,
          "metadata": {},
          "output_type": "execute_result"
        }
      ],
      "source": [
        "df['Fuel Type Code'].describe()"
      ]
    },
    {
      "cell_type": "code",
      "execution_count": null,
      "metadata": {
        "id": "WClvjMcSSiqu"
      },
      "outputs": [],
      "source": [
        "fuel_type_codes = df['Fuel Type Code'].value_counts(normalize=True)"
      ]
    },
    {
      "cell_type": "code",
      "execution_count": null,
      "metadata": {
        "id": "_67WwYe4Siqv"
      },
      "outputs": [],
      "source": [
        "num_unique_values = len(fuel_type_codes)"
      ]
    },
    {
      "cell_type": "code",
      "execution_count": null,
      "metadata": {
        "id": "6uYKJfFoSiqv"
      },
      "outputs": [],
      "source": [
        "percentage_values = (fuel_type_codes * 100).round(2)"
      ]
    },
    {
      "cell_type": "code",
      "execution_count": null,
      "metadata": {
        "id": "zNMe_tFZSiqv",
        "outputId": "3aad3fe2-1d5e-4923-f399-6af081f40d6d"
      },
      "outputs": [
        {
          "name": "stdout",
          "output_type": "stream",
          "text": [
            "Number of unique values in 'Fuel Type Code': 8\n",
            "\n",
            "Percentage of each value in 'Fuel Type Code':\n",
            "ELEC: 87.12%\n",
            "E85: 4.8%\n",
            "LPG: 3.74%\n",
            "BD: 1.8%\n",
            "CNG: 1.62%\n",
            "RD: 0.65%\n",
            "HY: 0.14%\n",
            "LNG: 0.13%\n"
          ]
        }
      ],
      "source": [
        "print(\"Number of unique values in 'Fuel Type Code':\", num_unique_values)\n",
        "print(\"\\nPercentage of each value in 'Fuel Type Code':\")\n",
        "for code, percentage in zip(fuel_type_codes.index, percentage_values):\n",
        "    print(f\"{code}: {percentage}%\")"
      ]
    },
    {
      "cell_type": "code",
      "execution_count": null,
      "metadata": {
        "id": "P9i_nHAcSiqv",
        "outputId": "5aacd3ac-b4ad-4dde-88d0-229ecde76335"
      },
      "outputs": [
        {
          "data": {
            "text/html": [
              "<div>\n",
              "<style scoped>\n",
              "    .dataframe tbody tr th:only-of-type {\n",
              "        vertical-align: middle;\n",
              "    }\n",
              "\n",
              "    .dataframe tbody tr th {\n",
              "        vertical-align: top;\n",
              "    }\n",
              "\n",
              "    .dataframe thead th {\n",
              "        text-align: right;\n",
              "    }\n",
              "</style>\n",
              "<table border=\"1\" class=\"dataframe\">\n",
              "  <thead>\n",
              "    <tr style=\"text-align: right;\">\n",
              "      <th></th>\n",
              "      <th>Fuel Type Code</th>\n",
              "      <th>Station Name</th>\n",
              "      <th>Street Address</th>\n",
              "      <th>Intersection Directions</th>\n",
              "      <th>City</th>\n",
              "      <th>State</th>\n",
              "      <th>ZIP</th>\n",
              "      <th>Plus4</th>\n",
              "      <th>Station Phone</th>\n",
              "      <th>Status Code</th>\n",
              "      <th>...</th>\n",
              "      <th>Restricted Access</th>\n",
              "      <th>RD Blends</th>\n",
              "      <th>RD Blends (French)</th>\n",
              "      <th>RD Blended with Biodiesel</th>\n",
              "      <th>RD Maximum Biodiesel Level</th>\n",
              "      <th>NPS Unit Name</th>\n",
              "      <th>CNG Station Sells Renewable Natural Gas</th>\n",
              "      <th>LNG Station Sells Renewable Natural Gas</th>\n",
              "      <th>Maximum Vehicle Class</th>\n",
              "      <th>EV Workplace Charging</th>\n",
              "    </tr>\n",
              "  </thead>\n",
              "  <tbody>\n",
              "    <tr>\n",
              "      <th>0</th>\n",
              "      <td>CNG</td>\n",
              "      <td>Spire - Montgomery Operations Center</td>\n",
              "      <td>2951 Chestnut St</td>\n",
              "      <td>NaN</td>\n",
              "      <td>Montgomery</td>\n",
              "      <td>AL</td>\n",
              "      <td>36107</td>\n",
              "      <td>NaN</td>\n",
              "      <td>NaN</td>\n",
              "      <td>E</td>\n",
              "      <td>...</td>\n",
              "      <td>NaN</td>\n",
              "      <td>NaN</td>\n",
              "      <td>NaN</td>\n",
              "      <td>NaN</td>\n",
              "      <td>NaN</td>\n",
              "      <td>NaN</td>\n",
              "      <td>False</td>\n",
              "      <td>NaN</td>\n",
              "      <td>MD</td>\n",
              "      <td>NaN</td>\n",
              "    </tr>\n",
              "    <tr>\n",
              "      <th>1</th>\n",
              "      <td>CNG</td>\n",
              "      <td>Metropolitan Atlanta Rapid Transit Authority</td>\n",
              "      <td>2424 Piedmont Rd NE</td>\n",
              "      <td>NaN</td>\n",
              "      <td>Atlanta</td>\n",
              "      <td>GA</td>\n",
              "      <td>30324</td>\n",
              "      <td>NaN</td>\n",
              "      <td>NaN</td>\n",
              "      <td>E</td>\n",
              "      <td>...</td>\n",
              "      <td>NaN</td>\n",
              "      <td>NaN</td>\n",
              "      <td>NaN</td>\n",
              "      <td>NaN</td>\n",
              "      <td>NaN</td>\n",
              "      <td>NaN</td>\n",
              "      <td>NaN</td>\n",
              "      <td>NaN</td>\n",
              "      <td>LD</td>\n",
              "      <td>NaN</td>\n",
              "    </tr>\n",
              "    <tr>\n",
              "      <th>2</th>\n",
              "      <td>CNG</td>\n",
              "      <td>United Parcel Service</td>\n",
              "      <td>270 Marvin Miller Dr</td>\n",
              "      <td>NaN</td>\n",
              "      <td>Atlanta</td>\n",
              "      <td>GA</td>\n",
              "      <td>30336</td>\n",
              "      <td>NaN</td>\n",
              "      <td>NaN</td>\n",
              "      <td>E</td>\n",
              "      <td>...</td>\n",
              "      <td>NaN</td>\n",
              "      <td>NaN</td>\n",
              "      <td>NaN</td>\n",
              "      <td>NaN</td>\n",
              "      <td>NaN</td>\n",
              "      <td>NaN</td>\n",
              "      <td>True</td>\n",
              "      <td>NaN</td>\n",
              "      <td>HD</td>\n",
              "      <td>NaN</td>\n",
              "    </tr>\n",
              "  </tbody>\n",
              "</table>\n",
              "<p>3 rows × 74 columns</p>\n",
              "</div>"
            ],
            "text/plain": [
              "  Fuel Type Code                                  Station Name  \\\n",
              "0            CNG          Spire - Montgomery Operations Center   \n",
              "1            CNG  Metropolitan Atlanta Rapid Transit Authority   \n",
              "2            CNG                         United Parcel Service   \n",
              "\n",
              "         Street Address Intersection Directions        City State    ZIP  \\\n",
              "0      2951 Chestnut St                     NaN  Montgomery    AL  36107   \n",
              "1   2424 Piedmont Rd NE                     NaN     Atlanta    GA  30324   \n",
              "2  270 Marvin Miller Dr                     NaN     Atlanta    GA  30336   \n",
              "\n",
              "   Plus4 Station Phone Status Code  ... Restricted Access RD Blends  \\\n",
              "0    NaN           NaN           E  ...               NaN       NaN   \n",
              "1    NaN           NaN           E  ...               NaN       NaN   \n",
              "2    NaN           NaN           E  ...               NaN       NaN   \n",
              "\n",
              "  RD Blends (French) RD Blended with Biodiesel RD Maximum Biodiesel Level  \\\n",
              "0                NaN                       NaN                        NaN   \n",
              "1                NaN                       NaN                        NaN   \n",
              "2                NaN                       NaN                        NaN   \n",
              "\n",
              "  NPS Unit Name CNG Station Sells Renewable Natural Gas  \\\n",
              "0           NaN                                   False   \n",
              "1           NaN                                     NaN   \n",
              "2           NaN                                    True   \n",
              "\n",
              "   LNG Station Sells Renewable Natural Gas  Maximum Vehicle Class  \\\n",
              "0                                      NaN                     MD   \n",
              "1                                      NaN                     LD   \n",
              "2                                      NaN                     HD   \n",
              "\n",
              "   EV Workplace Charging  \n",
              "0                    NaN  \n",
              "1                    NaN  \n",
              "2                    NaN  \n",
              "\n",
              "[3 rows x 74 columns]"
            ]
          },
          "execution_count": 12,
          "metadata": {},
          "output_type": "execute_result"
        }
      ],
      "source": [
        "df.head(3)"
      ]
    },
    {
      "cell_type": "markdown",
      "metadata": {
        "id": "VDsjPPMlSiqv"
      },
      "source": [
        "Number of Fuel Type code = 94369\n",
        "Percentage of each value in 'Fuel Type Code':\n",
        "ELEC: 87.12%\n",
        "E85: 4.8%\n",
        "LPG: 3.74%\n",
        "BD: 1.8%\n",
        "CNG: 1.62%\n",
        "RD: 0.65%\n",
        "HY: 0.14%\n",
        "LNG: 0.13%"
      ]
    },
    {
      "cell_type": "markdown",
      "metadata": {
        "id": "dq187zzlSiqw"
      },
      "source": [
        "Question 2.\tWhat is the number and percentage of the top 3 most common states? Make an “insight” about the location of alternative fuel centers. Where are they being deployed most?"
      ]
    },
    {
      "cell_type": "code",
      "execution_count": null,
      "metadata": {
        "id": "cBot4BU0Siqw"
      },
      "outputs": [],
      "source": [
        "top_states = df['State'].value_counts().head(3)\n",
        "total_centers = len(df)\n",
        "top_states_percentage = (top_states / total_centers * 100).round(2)"
      ]
    },
    {
      "cell_type": "code",
      "execution_count": null,
      "metadata": {
        "id": "bmNpHmoKSiqx",
        "outputId": "d34299f9-eb96-45e1-905d-673806a5fd0b"
      },
      "outputs": [
        {
          "name": "stdout",
          "output_type": "stream",
          "text": [
            "Top 3 most common states for alternative fuel centers:\n",
            "State\n",
            "CA    19402\n",
            "QC     4573\n",
            "NY     4478\n",
            "Name: count, dtype: int64\n",
            "\n",
            "Percentage of total alternative fuel centers:\n",
            "State\n",
            "CA    19402\n",
            "QC     4573\n",
            "NY     4478\n",
            "Name: count, dtype: int64:State\n",
            "CA    20.56\n",
            "QC     4.85\n",
            "NY     4.75\n",
            "Name: count, dtype: float64%\n"
          ]
        }
      ],
      "source": [
        "print(\"Top 3 most common states for alternative fuel centers:\")\n",
        "print(top_states)\n",
        "print(\"\\nPercentage of total alternative fuel centers:\")\n",
        "print(f\"{top_states}:{top_states_percentage}%\")"
      ]
    },
    {
      "cell_type": "markdown",
      "metadata": {
        "id": "L5Yfo5XtSiqx"
      },
      "source": [
        "Question 3.\tLook at the column called “EV_Network.” What are the top 3 most common EV charging networks?"
      ]
    },
    {
      "cell_type": "code",
      "execution_count": null,
      "metadata": {
        "id": "X6gmMaWrSiqx",
        "outputId": "e20f660d-bf8c-405b-e259-d68aaff6d650"
      },
      "outputs": [
        {
          "name": "stdout",
          "output_type": "stream",
          "text": [
            "Index(['Fuel Type Code', 'Station Name', 'Street Address',\n",
            "       'Intersection Directions', 'City', 'State', 'ZIP', 'Plus4',\n",
            "       'Station Phone', 'Status Code', 'Expected Date',\n",
            "       'Groups With Access Code', 'Access Days Time', 'Cards Accepted',\n",
            "       'BD Blends', 'NG Fill Type Code', 'NG PSI', 'EV Level1 EVSE Num',\n",
            "       'EV Level2 EVSE Num', 'EV DC Fast Count', 'EV Other Info', 'EV Network',\n",
            "       'EV Network Web', 'Geocode Status', 'Latitude', 'Longitude',\n",
            "       'Date Last Confirmed', 'ID', 'Updated At', 'Owner Type Code',\n",
            "       'Federal Agency ID', 'Federal Agency Name', 'Open Date',\n",
            "       'Hydrogen Status Link', 'NG Vehicle Class', 'LPG Primary',\n",
            "       'E85 Blender Pump', 'EV Connector Types', 'Country',\n",
            "       'Intersection Directions (French)', 'Access Days Time (French)',\n",
            "       'BD Blends (French)', 'Groups With Access Code (French)',\n",
            "       'Hydrogen Is Retail', 'Access Code', 'Access Detail Code',\n",
            "       'Federal Agency Code', 'Facility Type', 'CNG Dispenser Num',\n",
            "       'CNG On-Site Renewable Source', 'CNG Total Compression Capacity',\n",
            "       'CNG Storage Capacity', 'LNG On-Site Renewable Source',\n",
            "       'E85 Other Ethanol Blends', 'EV Pricing', 'EV Pricing (French)',\n",
            "       'LPG Nozzle Types', 'Hydrogen Pressures', 'Hydrogen Standards',\n",
            "       'CNG Fill Type Code', 'CNG PSI', 'CNG Vehicle Class',\n",
            "       'LNG Vehicle Class', 'EV On-Site Renewable Source', 'Restricted Access',\n",
            "       'RD Blends', 'RD Blends (French)', 'RD Blended with Biodiesel',\n",
            "       'RD Maximum Biodiesel Level', 'NPS Unit Name',\n",
            "       'CNG Station Sells Renewable Natural Gas',\n",
            "       'LNG Station Sells Renewable Natural Gas', 'Maximum Vehicle Class',\n",
            "       'EV Workplace Charging'],\n",
            "      dtype='object')\n"
          ]
        }
      ],
      "source": [
        "print(df.columns)"
      ]
    },
    {
      "cell_type": "markdown",
      "metadata": {
        "id": "pF2q_mMQSiqx"
      },
      "source": [
        "From dictionary entry with the following keys:\n",
        "{\n",
        "    \"Index(['Fuel Type'\": \"       'EV Level2 EVSE Num'\",\n",
        "    \" 'Station Name'\": 'EV DC Fast Count'\",\n",
        " \" 'Street Address'\": \" 'EV Other Info'\",\n",
        "    \"\": \" 'EV Network'\"\n",
        "  }\n",
        "  print(df['EV_Network'].value_counts().head(3))\n",
        "  print(df['EV_Network'].value_counts(normalize=True).head(3))\n",
        "  print(df['EV_Network'].value_counts(normalize=True).sort_values(ascending=False).head(3))\n",
        "  print(df['EV_Network'].value_counts(normalize=True).sort_values(ascending=False).tail(3))\n",
        "  print(df['EV_Network'].value_counts(normalize=True).sort_values(ascending=False).head(3))\n",
        "  print(df['EV_Network'].value_counts(normalize=True).sort_values(ascending=False).tail(3))\n",
        "  print(df['EV_Network'].value_counts(normalize=True).sort_values(ascending=False).head(3))\n",
        "  print(df['EV_Network'].value_counts(normalize=True).sort_values(ascending=False).tail(3))\n",
        "  print(df['EV_Network'].value_counts(normalize=True).sort_values(ascending=False).head(3))\n",
        "  "
      ]
    },
    {
      "cell_type": "code",
      "execution_count": null,
      "metadata": {
        "id": "i_iubG18Siqx",
        "outputId": "eede8b45-5b47-40d7-d34f-e4a59b9e9e86"
      },
      "outputs": [
        {
          "name": "stdout",
          "output_type": "stream",
          "text": [
            "EV Network             \n",
            "AddÉnergie Technologies    2\n",
            "STAY_N_CHARGE              1\n",
            "HONEY_BADGER               1\n",
            "Name: count, dtype: int64\n"
          ]
        }
      ],
      "source": [
        "top_3_networks = df[['EV Network']].value_counts().tail(3)\n",
        "print(top_3_networks)"
      ]
    },
    {
      "cell_type": "markdown",
      "metadata": {
        "id": "3ysDTdh1Siqy"
      },
      "source": [
        "4.\tI want to buy a Tesla. I live in Mississippi. How many charging stations are there in my state?"
      ]
    },
    {
      "cell_type": "code",
      "execution_count": null,
      "metadata": {
        "id": "fqbuIWL8Siqy"
      },
      "outputs": [],
      "source": [
        "# Filter the DataFrame to only include Tesla charging stations\n",
        "tesla_df = df[df['Fuel Type Code'] == 'TSLA']"
      ]
    },
    {
      "cell_type": "code",
      "execution_count": null,
      "metadata": {
        "id": "UnjhSE7_Siqy"
      },
      "outputs": [],
      "source": [
        "# Count the number of Tesla charging stations in Mississippi\n",
        "mississippi_tesla_stations = tesla_df[tesla_df['State'] == 'MS'].shape[0]"
      ]
    },
    {
      "cell_type": "code",
      "execution_count": null,
      "metadata": {
        "id": "aE7cSe1KSiqy",
        "outputId": "35c57ad4-fe6e-47a6-cb16-e6294d57cc2d"
      },
      "outputs": [
        {
          "name": "stdout",
          "output_type": "stream",
          "text": [
            "There are 0 Tesla charging stations in Mississippi.\n"
          ]
        }
      ],
      "source": [
        "# Print the number of Tesla charging stations in Mississippi\n",
        "print(f\"There are {mississippi_tesla_stations} Tesla charging stations in Mississippi.\")"
      ]
    },
    {
      "cell_type": "markdown",
      "metadata": {
        "id": "-Btfzy_7Siqy"
      },
      "source": [
        "OR use this method to get the number of Tesla charging stations in mississippi"
      ]
    },
    {
      "cell_type": "code",
      "execution_count": null,
      "metadata": {
        "id": "_MXl9f6ASiqy",
        "outputId": "26ce3741-31fa-4aeb-b646-ae0ea90d9215"
      },
      "outputs": [
        {
          "name": "stdout",
          "output_type": "stream",
          "text": [
            "0\n",
            "Empty DataFrame\n",
            "Columns: [Fuel Type Code, Station Name, Street Address, Intersection Directions, City, State, ZIP, Plus4, Station Phone, Status Code, Expected Date, Groups With Access Code, Access Days Time, Cards Accepted, BD Blends, NG Fill Type Code, NG PSI, EV Level1 EVSE Num, EV Level2 EVSE Num, EV DC Fast Count, EV Other Info, EV Network, EV Network Web, Geocode Status, Latitude, Longitude, Date Last Confirmed, ID, Updated At, Owner Type Code, Federal Agency ID, Federal Agency Name, Open Date, Hydrogen Status Link, NG Vehicle Class, LPG Primary, E85 Blender Pump, EV Connector Types, Country, Intersection Directions (French), Access Days Time (French), BD Blends (French), Groups With Access Code (French), Hydrogen Is Retail, Access Code, Access Detail Code, Federal Agency Code, Facility Type, CNG Dispenser Num, CNG On-Site Renewable Source, CNG Total Compression Capacity, CNG Storage Capacity, LNG On-Site Renewable Source, E85 Other Ethanol Blends, EV Pricing, EV Pricing (French), LPG Nozzle Types, Hydrogen Pressures, Hydrogen Standards, CNG Fill Type Code, CNG PSI, CNG Vehicle Class, LNG Vehicle Class, EV On-Site Renewable Source, Restricted Access, RD Blends, RD Blends (French), RD Blended with Biodiesel, RD Maximum Biodiesel Level, NPS Unit Name, CNG Station Sells Renewable Natural Gas, LNG Station Sells Renewable Natural Gas, Maximum Vehicle Class, EV Workplace Charging]\n",
            "Index: []\n",
            "\n",
            "[0 rows x 74 columns]\n"
          ]
        }
      ],
      "source": [
        "mississippi_stations = df[df['State'] == 'Mississippi']\n",
        "print(mississippi_stations.shape[0])\n",
        "print(mississippi_stations.head())"
      ]
    },
    {
      "cell_type": "code",
      "execution_count": null,
      "metadata": {
        "id": "Di3VmuvNSiqy"
      },
      "outputs": [],
      "source": [
        "#4 df_miss['ev connector types'].value_counts()\n",
        "df_miss['ev_network'].value_counts()"
      ]
    },
    {
      "cell_type": "markdown",
      "metadata": {
        "id": "hrDQBECaSiqy"
      },
      "source": [
        "Question 5.\tWhat percentage of stations are owned by the Federal government?"
      ]
    },
    {
      "cell_type": "code",
      "execution_count": null,
      "metadata": {
        "id": "IxWUj_bFSiqy",
        "outputId": "8c0ec256-1434-479a-e619-12480c52e87f"
      },
      "outputs": [
        {
          "name": "stdout",
          "output_type": "stream",
          "text": [
            "0.00% of alternative fuel stations are owned by the Federal government.\n"
          ]
        }
      ],
      "source": [
        "# Filter the DataFrame to only include rows with Federal government as the owner type\n",
        "federal_gov_df = df[df['Owner Type Code'] == 'Federal Government']\n",
        "\n",
        "# Calculate the percentage of Federal government-owned stations\n",
        "federal_gov_percentage = (federal_gov_df.shape[0] / df.shape[0]) * 100\n",
        "\n",
        "# Print the percentage of Federal government-owned stations\n",
        "print(f\"{federal_gov_percentage:.2f}% of alternative fuel stations are owned by the Federal government.\")"
      ]
    },
    {
      "cell_type": "markdown",
      "metadata": {
        "id": "O5WGh8HySiqy"
      },
      "source": [
        "Question 6.\tWhat are the top 3 most popular facility types? Why do you think those facility types are the most popular?"
      ]
    },
    {
      "cell_type": "code",
      "execution_count": null,
      "metadata": {
        "id": "cGjMHvf3Siqz",
        "outputId": "22eb8b99-4b2e-403f-bbcc-f3651914c6be"
      },
      "outputs": [
        {
          "name": "stdout",
          "output_type": "stream",
          "text": [
            "Top 3 most common facility types:\n",
            "Facility Type\n",
            "CONVENIENCE_STORE    4912\n",
            "HOTEL                3454\n",
            "CAR_DEALER           3116\n",
            "Name: count, dtype: int64\n"
          ]
        }
      ],
      "source": [
        "# Count the number of occurrences of each facility type\n",
        "facility_type_counts = df['Facility Type'].value_counts()\n",
        "\n",
        "# Get the top 3 most common facility types\n",
        "top_3_facility_types = facility_type_counts.head(3)\n",
        "\n",
        "# Print the top 3 most common facility types\n",
        "print(\"Top 3 most common facility types:\")\n",
        "print(top_3_facility_types)"
      ]
    },
    {
      "cell_type": "code",
      "execution_count": null,
      "metadata": {
        "id": "y_eijPcwSiqz",
        "outputId": "f2cc2fa3-6f4a-4c33-8859-584af4266923"
      },
      "outputs": [
        {
          "name": "stdout",
          "output_type": "stream",
          "text": [
            "Facility Type\n",
            "CONVENIENCE_STORE    4912\n",
            "HOTEL                3454\n",
            "CAR_DEALER           3116\n",
            "GAS_STATION          2469\n",
            "FUEL_RESELLER        1467\n",
            "                     ... \n",
            "PHARMACY               12\n",
            "WORKPLACE               6\n",
            "MOTOR_POOL              5\n",
            "STADIUM                 3\n",
            "TNC                     1\n",
            "Name: count, Length: 63, dtype: int64\n"
          ]
        }
      ],
      "source": [
        "top_facility_types = df['Facility Type'].value_counts()\n",
        "top_3_facility_types = facility_type_counts.head(3)\n",
        "print(top_facility_types)"
      ]
    },
    {
      "cell_type": "markdown",
      "metadata": {
        "id": "xn8-ngAxSiqz"
      },
      "source": [
        "Question 7. For Level 2 EV charging stations (column “EV Level2 EVSE Num”), how many Level 2 EV Charging stations have more than 10 chargers?"
      ]
    },
    {
      "cell_type": "code",
      "execution_count": null,
      "metadata": {
        "id": "8uemcuHeSiqz",
        "outputId": "b30f14a2-8aaf-4119-bbb6-c8225fec2755"
      },
      "outputs": [
        {
          "name": "stdout",
          "output_type": "stream",
          "text": [
            "There are 946 Level 2 EV charging stations with more than 10 chargers.\n"
          ]
        }
      ],
      "source": [
        "# Filter the DataFrame to only include rows with Level 2 EV charging stations\n",
        "level2_df = df[df['EV Level2 EVSE Num'] > 0]\n",
        "\n",
        "# Count the number of Level 2 EV charging stations with more than 10 chargers\n",
        "more_than_10_chargers = (level2_df['EV Level2 EVSE Num'] > 10).sum()\n",
        "\n",
        "# Print the number of Level 2 EV charging stations with more than 10 chargers\n",
        "print(f\"There are {more_than_10_chargers} Level 2 EV charging stations with more than 10 chargers.\")"
      ]
    },
    {
      "cell_type": "code",
      "execution_count": null,
      "metadata": {
        "id": "dNQZCr-JSiqz",
        "outputId": "b057524f-ae4e-42cb-e2e7-a03fe1eb7f57"
      },
      "outputs": [
        {
          "name": "stdout",
          "output_type": "stream",
          "text": [
            "Fuel Type Code                             946\n",
            "Station Name                               946\n",
            "Street Address                             946\n",
            "Intersection Directions                     99\n",
            "City                                       946\n",
            "                                          ... \n",
            "NPS Unit Name                                2\n",
            "CNG Station Sells Renewable Natural Gas      0\n",
            "LNG Station Sells Renewable Natural Gas      0\n",
            "Maximum Vehicle Class                      351\n",
            "EV Workplace Charging                      945\n",
            "Length: 74, dtype: int64\n"
          ]
        }
      ],
      "source": [
        "num_stations_with_more_than_10_chargers = df[(df['EV Level2 EVSE Num'] > 10)].count()\n",
        "print(num_stations_with_more_than_10_chargers)"
      ]
    },
    {
      "cell_type": "markdown",
      "metadata": {
        "id": "iSPbqjaKSiqz"
      },
      "source": [
        "Question 8. List 3 questions that you would want to ask if you are looking to open a new alternative fuel center.\n",
        "Below are the questions, i would ask for alternative fuel centers;"
      ]
    },
    {
      "cell_type": "markdown",
      "metadata": {
        "id": "2BRiQEedSiqz"
      },
      "source": [
        "Question A: What is the demand for alternative fuel in the area?\n",
        "Question B: What is the distribution of alternative fuel types in the area?\n",
        "Question C: What is the distribution of facility types in the area?"
      ]
    },
    {
      "cell_type": "code",
      "execution_count": null,
      "metadata": {
        "id": "qS8J4-MkSiq0"
      },
      "outputs": [],
      "source": [
        "# Question A: What is the demand for alternative fuel in the area?\n",
        "# Count the number of alternative fuel stations in the area\n",
        "num_stations = df[(df['State'] == 'your_state') & (df['City'] == 'your_city')].shape[0]\n",
        "\n",
        "# Print the number of alternative fuel stations in the area\n",
        "print(f\"There are currently {num_stations} alternative fuel stations in {your_city}, {your_state}.\")"
      ]
    },
    {
      "cell_type": "code",
      "execution_count": null,
      "metadata": {
        "id": "ICno2cXXSiq0"
      },
      "outputs": [],
      "source": [
        "#Question B: What is the distribution of alternative fuel types in the area?\n",
        "# Count the number of occurrences of each alternative fuel type in the area\n",
        "fuel_type_counts = df[(df['State'] == 'your_state') & (df['City'] == 'your_city')]['Fuel Type Code'].value_counts()\n",
        "\n",
        "# Print the distribution of alternative fuel types in the area\n",
        "print(\"Distribution of alternative fuel types in {your_city}, {your_state}:\")\n",
        "print(fuel_type_counts)"
      ]
    },
    {
      "cell_type": "code",
      "execution_count": null,
      "metadata": {
        "id": "m3ZtOmyaSiq0"
      },
      "outputs": [],
      "source": [
        "# Question C: What is the distribution of facility types in the area?\n",
        "# Count the number of occurrences of each facility type in the area\n",
        "facility_type_counts = df[(df['State'] == 'your_state') & (df['City'] == 'your_city')]['Facility Type'].value_counts()\n",
        "\n",
        "# Print the distribution of facility types in the area\n",
        "print(\"Distribution of facility types in {your_city}, {your_state}:\")\n",
        "print(facility_type_counts)"
      ]
    },
    {
      "cell_type": "markdown",
      "metadata": {
        "id": "2Yf8wqeGSiq0"
      },
      "source": [
        "Question 9.\tWhat is an “insight” that you could communicate to someone who is thinking about whether to invest in a new alternative fuel center"
      ]
    },
    {
      "cell_type": "markdown",
      "metadata": {
        "id": "E7IzuPnESiq0"
      },
      "source": [
        "These are the insights that i would communicate to investor to be in an alternative fuel center:\n",
        "\n",
        "The demand for alternative fuel is growing, and there is a trend towards increased adoption of electric vehicles (EVs) in particular. According to the International Energy Agency - see reference, the number of electric cars on the road worldwide surpassed 1 million in 2020, a 40% year-on-year increase. This trend is expected to continue, with the number of electric cars projected to reach 140 million by 2030.\n",
        "\n",
        "Investing in an alternative fuel center now could position you to take advantage of this growing market. However, it is important to carefully consider the location and type of alternative fuel center, as well as the current state of alternative fuel infrastructure in the area. By analyzing data on alternative fuel stations, such as the data available from the US Department of Energy's Alternative Fuels Data Center, you can make informed decisions about the type and location of your new alternative fuel center.\n",
        "\n",
        "Additionally, it is important to consider the potential environmental benefits of investing in alternative fuel. Alternative fuels, such as electricity, hydrogen, and biofuels, can produce lower greenhouse gas emissions than traditional fossil fuels, which can help reduce the carbon footprint of transportation. By investing in alternative fuel, you can contribute to a more sustainable future and potentially attract customers who prioritize environmental concerns.\n",
        "\n",
        "Overall, investing in an alternative fuel center can be a smart business decision that aligns with growing market trends and environmental goals. However, it is important to carefully consider the location, type, and potential environmental benefits of your investment.\n",
        "\n",
        "Based on the reference below;\n",
        "1. International Energy Agency. (2021). Global EV Outlook 201: Achieving an Electric Vehicle Future. Retrieved https://www.iea.org/reports/global--outlook-2021\n",
        "2. US Department of Energy's Alternative Fuels Data Center. Alternative Fueling Station Counts by State and County. Retrieved from https://afdc.energy.gov/data/stations/counts\n",
        "3. US Department of Energy's Alternative Fuels Data Center. Alternative Fueling Station Locations by Fuel Type. Retrieved from https://afdc.energy.gov/data/stations/stationsbyfueltype.html\n",
        "4. US Environmental Protection Agency. Greenhouse Gas Emissions from Transportation. Retrieved from https://www.epa.gov/greenvehicles/fast-facts-transportation-greenhouse-gas-emissions"
      ]
    },
    {
      "cell_type": "markdown",
      "metadata": {
        "id": "0UKGvOtZSiq0"
      },
      "source": [
        "Question 10.\tList an insight or fact about a column of your choosing. List the column name and give some piece of information about that column."
      ]
    },
    {
      "cell_type": "code",
      "execution_count": null,
      "metadata": {
        "id": "VQvaBJCCSiq0",
        "outputId": "f65fe1bc-5c07-42fe-aa71-2412416429f4"
      },
      "outputs": [
        {
          "name": "stdout",
          "output_type": "stream",
          "text": [
            "State\n",
            "CA    19402\n",
            "QC     4573\n",
            "NY     4478\n",
            "ON     4379\n",
            "TX     4168\n",
            "Name: count, dtype: int64\n",
            "Missing values in the 'State' column:  15\n"
          ]
        }
      ],
      "source": [
        "# Choosing the state column\n",
        "# check for missing values in the state column\n",
        "print(df['State'].value_counts().head())\n",
        "print(\"Missing values in the 'State' column: \", df['State'].isnull().sum())"
      ]
    },
    {
      "cell_type": "code",
      "execution_count": null,
      "metadata": {
        "id": "Ds7hFTu-Siq0",
        "outputId": "363f8428-f6f8-42bf-a9b8-eaf8e89d2d97"
      },
      "outputs": [
        {
          "name": "stdout",
          "output_type": "stream",
          "text": [
            "Number of unique states:  65\n"
          ]
        }
      ],
      "source": [
        "# Counting the number of unique values in the \"State\" column\n",
        "print(\"Number of unique states: \", df['State'].nunique())"
      ]
    },
    {
      "cell_type": "code",
      "execution_count": null,
      "metadata": {
        "id": "uaCQa4YSSiq0",
        "outputId": "33ce078d-f637-468b-845c-5eba8838acd5"
      },
      "outputs": [
        {
          "name": "stdout",
          "output_type": "stream",
          "text": [
            "Percentage of rows for each state:\n",
            " State\n",
            "CA    0.205630\n",
            "QC    0.048466\n",
            "NY    0.047460\n",
            "ON    0.046410\n",
            "TX    0.044174\n",
            "        ...   \n",
            "AK    0.000699\n",
            "YT    0.000435\n",
            "PR    0.000233\n",
            "NT    0.000032\n",
            "KA    0.000011\n",
            "Name: proportion, Length: 65, dtype: float64\n"
          ]
        }
      ],
      "source": [
        "# calculate the percentage of rows for each state\n",
        "state_counts = df['State'].value_counts(normalize=True)\n",
        "print(\"Percentage of rows for each state:\\n\", state_counts)"
      ]
    }
  ],
  "metadata": {
    "kernelspec": {
      "display_name": "Python 3",
      "language": "python",
      "name": "python3"
    },
    "language_info": {
      "codemirror_mode": {
        "name": "ipython",
        "version": 3
      },
      "file_extension": ".py",
      "mimetype": "text/x-python",
      "name": "python",
      "nbconvert_exporter": "python",
      "pygments_lexer": "ipython3",
      "version": "3.12.1"
    },
    "colab": {
      "provenance": [],
      "include_colab_link": true
    }
  },
  "nbformat": 4,
  "nbformat_minor": 0
}